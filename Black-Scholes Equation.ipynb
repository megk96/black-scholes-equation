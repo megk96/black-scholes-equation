{
 "cells": [
  {
   "cell_type": "code",
   "execution_count": 15,
   "metadata": {},
   "outputs": [
    {
     "name": "stdout",
     "output_type": "stream",
     "text": [
      "3701.09000862\n",
      "498.405865091\n"
     ]
    }
   ],
   "source": [
    "from math import *\n",
    "def normalDistribution(x):\n",
    "    rttwopi = sqrt(4.0*acos(0.0))\n",
    "    split = 110.0/sqrt(2)\n",
    "    a = [220.206867912376,221.213596169931,112.079291497871,33.912866078383,6.37396220353165,0.700383064443688,3.52624965998911e-02]\n",
    "    b = [440.413735824752,793.826512519948,637.333633378831,296.564248779674,86.7807322029461,16.064177579207,1.75566716318264,8.83883476483184e-02]\n",
    "    z = fabs(x)\n",
    "    Nz = 0.0\n",
    "    if(z<=37):\n",
    "        NDash = exp(-z*z/2.0)/rttwopi\n",
    "        if(z<split):\n",
    "            Pz = (((((a[6]*z + a[5])*z + a[4])*z + a[3])*z + a[2])*z + a[1])*z + a[0]\n",
    "            Qz = ((((((b[7]*z + b[6])*z + b[5])*z + b[4])*z + b[3])*z + b[2])*z + b[1])*z + b[0]\n",
    "            Nz = rttwopi*NDash*Pz/Qz\n",
    "        else:\n",
    "            F4z = z + 1.0/(z + 2.0/(z + 3.0/(z + 4.0/(z + 13.0/20.0))))\n",
    "            Nz = NDash/F4z\n",
    "    if(x>=0.0):\n",
    "        return 1-Nz\n",
    "    else:\n",
    "        return Nz\n",
    "def bothOptions(S,t,X,r,sigma,T):\n",
    "    if(S<1.e-14):\n",
    "        return 0\n",
    "    if(sigma<1.e-14):\n",
    "        if(S<X*exp(-r*(T-t))):\n",
    "            return 0.0\n",
    "        else:\n",
    "            return S-X*exp(-r*(T-t))\n",
    "    if(fabs(T-t)<1.e-14):\n",
    "        if(S<X):\n",
    "            return 0.0\n",
    "        else:\n",
    "            return S-X\n",
    "    d1=(log(S/X) + (r+sigma*sigma/2.)*(T-t))/(sigma*sqrt(T-t))\n",
    "    d2=(log(S/X) + (r-sigma*sigma/2.)*(T-t))/(sigma*sqrt(T-t))\n",
    "    print normalDistribution(d1)*S - normalDistribution(d2)*X*exp(-r*(T-t))\n",
    "    print normalDistribution(-d2)*X*exp(-r*(T-t)) - normalDistribution(-d1)*S\n",
    "\n",
    "bothOptions(205,0,210.59,0.08,0.1404,4) \n",
    "        \n",
    "    \n",
    "            \n",
    "            \n",
    "            "
   ]
  },
  {
   "cell_type": "code",
   "execution_count": null,
   "metadata": {
    "collapsed": true
   },
   "outputs": [],
   "source": []
  },
  {
   "cell_type": "code",
   "execution_count": null,
   "metadata": {
    "collapsed": true
   },
   "outputs": [],
   "source": []
  }
 ],
 "metadata": {
  "kernelspec": {
   "display_name": "Python 2",
   "language": "python",
   "name": "python2"
  },
  "language_info": {
   "codemirror_mode": {
    "name": "ipython",
    "version": 2
   },
   "file_extension": ".py",
   "mimetype": "text/x-python",
   "name": "python",
   "nbconvert_exporter": "python",
   "pygments_lexer": "ipython2",
   "version": "2.7.14"
  }
 },
 "nbformat": 4,
 "nbformat_minor": 2
}
